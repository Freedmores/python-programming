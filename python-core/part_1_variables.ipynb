# variables are containers to store data in a program
rent = 1220
gas =202.5
groceries = 305.6

print rent